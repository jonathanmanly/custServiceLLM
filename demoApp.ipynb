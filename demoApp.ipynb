{
 "cells": [
  {
   "cell_type": "code",
   "execution_count": 27,
   "metadata": {},
   "outputs": [
    {
     "name": "stderr",
     "output_type": "stream",
     "text": [
      "/home/jon/.local/lib/python3.10/site-packages/transformers/pipelines/text_classification.py:105: UserWarning: `return_all_scores` is now deprecated,  if want a similar functionality use `top_k=None` instead of `return_all_scores=True` or `top_k=1` instead of `return_all_scores=False`.\n",
      "  warnings.warn(\n"
     ]
    },
    {
     "name": "stdout",
     "output_type": "stream",
     "text": [
      "Running on local URL:  http://127.0.0.1:7865\n",
      "\n",
      "To create a public link, set `share=True` in `launch()`.\n"
     ]
    },
    {
     "data": {
      "text/html": [
       "<div><iframe src=\"http://127.0.0.1:7865/\" width=\"100%\" height=\"500\" allow=\"autoplay; camera; microphone; clipboard-read; clipboard-write;\" frameborder=\"0\" allowfullscreen></iframe></div>"
      ],
      "text/plain": [
       "<IPython.core.display.HTML object>"
      ]
     },
     "metadata": {},
     "output_type": "display_data"
    }
   ],
   "source": [
    "from transformers import pipeline\n",
    "import gradio as gr\n",
    "\n",
    "pipeline = pipeline(task=\"text-classification\", model=\"jonmanly/custServiceClassifier\",return_all_scores=True)\n",
    "\n",
    "def classify(input_txt):\n",
    "    predictions = pipeline(input_txt)\n",
    "    allPreds = [[x['label'],round(x['score'],3)] for x in predictions[0]]\n",
    "    allPreds.sort(key=lambda x: x[1],reverse=True)\n",
    "    answer='\\n'.join([x[0]+\": \"+str(x[1]) for x in allPreds[:3]])\n",
    "    return answer\n",
    "\n",
    "gradio_app = gr.Interface(\n",
    "    classify,\n",
    "    inputs=gr.Text(label=\"Say what you want here to the Customer Service Classifier\", ),\n",
    "    outputs=gr.Text(label=\"Top 3 Classifications and Probability Scores\"),\n",
    "    title=\"Customer Service Classifier Demo\",\n",
    ")\n",
    "\n",
    "if __name__ == \"__main__\":\n",
    "    gradio_app.launch()"
   ]
  },
  {
   "cell_type": "code",
   "execution_count": null,
   "metadata": {},
   "outputs": [],
   "source": []
  }
 ],
 "metadata": {
  "kernelspec": {
   "display_name": "Python 3",
   "language": "python",
   "name": "python3"
  },
  "language_info": {
   "codemirror_mode": {
    "name": "ipython",
    "version": 3
   },
   "file_extension": ".py",
   "mimetype": "text/x-python",
   "name": "python",
   "nbconvert_exporter": "python",
   "pygments_lexer": "ipython3",
   "version": "3.10.12"
  }
 },
 "nbformat": 4,
 "nbformat_minor": 2
}
