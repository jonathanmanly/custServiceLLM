{
 "cells": [
  {
   "cell_type": "code",
   "execution_count": null,
   "metadata": {},
   "outputs": [],
   "source": [
    "from transformers import pipeline\n",
    "import gradio as gr\n",
    "\n",
    "classify_pipeline = pipeline(task=\"text-classification\", model=\"jonmanly/custServiceClassifier\",return_all_scores=True)\n",
    "sentiment_pipeline = pipeline(\"sentiment-analysis\",model=\"distilbert-base-uncased-finetuned-sst-2-english\")\n",
    "\n",
    "\n",
    "user_instructions = [\"I've heard great things about you guys.  I'd like to open an account.\",\n",
    "                     \"I'm happy with your company, but I need to ask for my money back.\",\n",
    "                     \"Just sen me back my money.\",\n",
    "                     \"Please send me a new password. I'm locked out.  Thank you!\"]\n",
    "\n",
    "defaultQuery = user_instructions[0]\n",
    "\n",
    "def classify(input_txt):\n",
    "    predictions = classify_pipeline(input_txt)\n",
    "    allPreds = [[x['label'],round(x['score'],3)] for x in predictions[0]]\n",
    "    allPreds.sort(key=lambda x: x[1],reverse=True)\n",
    "    answer='\\n'.join([x[0]+\": \"+str(x[1]) for x in allPreds[:3]])\n",
    "    return answer\n",
    "\n",
    "def sentimentScore(input_txt):\n",
    "    sentiment = sentiment_pipeline(input_txt)[0]\n",
    "    sentiment_statement = \"Sentiment is \"+sentiment['label']+\": \"+str(round(sentiment['score'],3))\n",
    "    return sentiment_statement\n",
    "\n",
    "def classifyAndSentiment(input_txt):\n",
    "    classifyResp = classify(input_txt)\n",
    "    sentimentResp = sentimentScore(input_txt)\n",
    "    resp = f\"{classifyResp}\\n\\n{sentimentResp}\"\n",
    "    return resp\n",
    "\n",
    "gradio_app = gr.Interface(\n",
    "    classifyAndSentiment,\n",
    "    inputs=gr.Text(label=\"Say what you want here to the Customer Service Classifier\",autofocus=True ),\n",
    "    outputs=gr.Text(label=\"Top 3 Classifications and Probability Scores\",show_copy_button=True),\n",
    "    title=\"Customer Service Classifier Demo\",\n",
    "    description=\"Uses a fine tuned version of Distilbert for classification, and a pretrained version for sentiment.\",\n",
    "    allow_flagging='never',examples=user_instructions\n",
    "\n",
    ")\n",
    "\n",
    "\n",
    "\n",
    "if __name__ == \"__main__\":\n",
    "    gradio_app.launch()"
   ]
  },
  {
   "cell_type": "code",
   "execution_count": null,
   "metadata": {},
   "outputs": [],
   "source": []
  }
 ],
 "metadata": {
  "kernelspec": {
   "display_name": "Python 3",
   "language": "python",
   "name": "python3"
  },
  "language_info": {
   "codemirror_mode": {
    "name": "ipython",
    "version": 3
   },
   "file_extension": ".py",
   "mimetype": "text/x-python",
   "name": "python",
   "nbconvert_exporter": "python",
   "pygments_lexer": "ipython3",
   "version": "3.10.12"
  }
 },
 "nbformat": 4,
 "nbformat_minor": 2
}
